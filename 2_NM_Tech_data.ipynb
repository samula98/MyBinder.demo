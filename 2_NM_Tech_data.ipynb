{
  "nbformat": 4,
  "nbformat_minor": 0,
  "metadata": {
    "colab": {
      "provenance": [],
      "mount_file_id": "1tG2GnV2cadKSwH-t5yDhl6iHzQ17-L3R",
      "authorship_tag": "ABX9TyOrAJad1HVRdUU153n/0Jx+",
      "include_colab_link": true
    },
    "kernelspec": {
      "name": "python3",
      "display_name": "Python 3"
    },
    "language_info": {
      "name": "python"
    }
  },
  "cells": [
    {
      "cell_type": "markdown",
      "metadata": {
        "id": "view-in-github",
        "colab_type": "text"
      },
      "source": [
        "<a href=\"https://colab.research.google.com/github/samula98/MyBinder.demo/blob/main/2_NM_Tech_data.ipynb\" target=\"_parent\"><img src=\"https://colab.research.google.com/assets/colab-badge.svg\" alt=\"Open In Colab\"/></a>"
      ]
    },
    {
      "cell_type": "code",
      "execution_count": null,
      "metadata": {
        "id": "Z_W4JPQdFG9d"
      },
      "outputs": [],
      "source": [
        "import pandas as pd\n",
        "import numpy as np\n",
        "import requests\n",
        "import zipfile\n",
        "import io\n",
        "import os\n",
        "import requests\n",
        "from zipfile import ZipFile"
      ]
    },
    {
      "cell_type": "code",
      "source": [
        "# map_data = pd.read_html('https://geoinfo.nmt.edu/publications/maps/geologic/ofgm/details.cfml?Volume=216')"
      ],
      "metadata": {
        "id": "IV8kaCPcGHMw"
      },
      "execution_count": null,
      "outputs": []
    },
    {
      "cell_type": "code",
      "source": [
        "map_data_zip = '/content/drive/MyDrive/Download.zip'"
      ],
      "metadata": {
        "id": "faBIWZlhIAVU"
      },
      "execution_count": null,
      "outputs": []
    },
    {
      "cell_type": "code",
      "source": [
        "with ZipFile(map_data_zip, 'r') as zip:\n",
        "  zip.printdir()\n",
        "  zip.extractall()"
      ],
      "metadata": {
        "colab": {
          "base_uri": "https://localhost:8080/"
        },
        "id": "dGiSgs5uMTmk",
        "outputId": "25c59090-ab55-45a8-8fbb-6e31c4c40342"
      },
      "execution_count": null,
      "outputs": [
        {
          "output_type": "stream",
          "name": "stdout",
          "text": [
            "File Name                                             Modified             Size\n",
            "WhiteOaksSouth/                                2015-02-23 13:30:02            0\n",
            "WhiteOaksSouth.mpk                             2015-02-23 13:30:02     16158986\n",
            "WhiteOaksSouth/commondata/                     2015-02-23 13:30:02            0\n",
            "WhiteOaksSouth/commondata/24k/                 2015-02-23 13:30:02            0\n",
            "WhiteOaksSouth/commondata/raster_data/         2015-02-23 13:30:02            0\n",
            "WhiteOaksSouth/commondata/raster_data/White_Oaks_South_topo_clip.aux 2010-04-28 14:40:40        11226\n",
            "WhiteOaksSouth/commondata/raster_data/White_Oaks_South_topo_clip.rrd 2010-04-28 14:40:38      5965509\n",
            "WhiteOaksSouth/commondata/raster_data/White_Oaks_South_topo_clip.tif 2010-04-28 14:40:38     70565620\n",
            "WhiteOaksSouth/v101/                           2015-02-23 13:30:04            0\n",
            "WhiteOaksSouth/v101/whiteoakssouth.gdb/        2015-02-23 13:30:04            0\n",
            "WhiteOaksSouth/v101/whiteoakssouth.gdb/a00000009.gdbtable 2015-02-23 13:28:30       220124\n",
            "WhiteOaksSouth/v101/whiteoakssouth.gdb/a00000009.gdbtablx 2015-02-23 13:28:30         5280\n",
            "WhiteOaksSouth/v101/whiteoakssouth.gdb/a0000000a.gdbtable 2015-02-23 13:28:30       165387\n",
            "WhiteOaksSouth/v101/whiteoakssouth.gdb/a0000000a.gdbtablx 2015-02-23 13:28:30        10400\n",
            "WhiteOaksSouth/v101/whiteoakssouth.gdb/a0000000b.gdbtable 2015-02-23 13:28:30        17985\n",
            "WhiteOaksSouth/v101/whiteoakssouth.gdb/a0000000b.gdbtablx 2015-02-23 13:28:30         5152\n",
            "WhiteOaksSouth/v101/whiteoakssouth.gdb/a0000000c.gdbtable 2015-02-23 13:28:30        15697\n",
            "WhiteOaksSouth/v101/whiteoakssouth.gdb/a0000000c.gdbtablx 2015-02-23 13:28:30         5152\n",
            "WhiteOaksSouth/v101/whiteoakssouth.gdb/a0000000d.gdbtable 2015-02-23 13:28:30         1469\n",
            "WhiteOaksSouth/v101/whiteoakssouth.gdb/a0000000d.gdbtablx 2015-02-23 13:28:30         5152\n",
            "WhiteOaksSouth/v101/whiteoakssouth.gdb/a0000000e.gdbtable 2015-02-23 13:28:30         1808\n",
            "WhiteOaksSouth/v101/whiteoakssouth.gdb/a0000000e.gdbtablx 2015-02-23 13:28:30         5152\n",
            "WhiteOaksSouth/v101/whiteoakssouth.gdb/a0000000f.gdbtable 2015-02-23 13:28:30        20013\n",
            "WhiteOaksSouth/v101/whiteoakssouth.gdb/a0000000f.gdbtablx 2015-02-23 13:28:30         5152\n",
            "WhiteOaksSouth/v101/whiteoakssouth.gdb/a00000010.gdbtable 2015-02-23 13:28:30         1524\n",
            "WhiteOaksSouth/v101/whiteoakssouth.gdb/a00000010.gdbtablx 2015-02-23 13:28:30         5152\n",
            "WhiteOaksSouth/v101/whiteoakssouth.gdb/a00000011.gdbtable 2015-02-23 13:28:30         9456\n",
            "WhiteOaksSouth/v101/whiteoakssouth.gdb/a00000011.gdbtablx 2015-02-23 13:28:30         5152\n",
            "WhiteOaksSouth/v101/whiteoakssouth.gdb/a00000012.gdbtable 2015-02-23 13:28:30         8931\n",
            "WhiteOaksSouth/v101/whiteoakssouth.gdb/a00000012.gdbtablx 2015-02-23 13:28:30         5152\n",
            "WhiteOaksSouth/v101/whiteoakssouth.gdb/a00000013.gdbtable 2015-02-23 13:28:30         2894\n",
            "WhiteOaksSouth/v101/whiteoakssouth.gdb/a00000013.gdbtablx 2015-02-23 13:28:30         5152\n",
            "WhiteOaksSouth/v101/whiteoakssouth.gdb/a00000014.gdbtable 2015-02-23 13:28:30        12224\n",
            "WhiteOaksSouth/v101/whiteoakssouth.gdb/a00000014.gdbtablx 2015-02-23 13:28:30         5152\n",
            "WhiteOaksSouth/v101/whiteoakssouth.gdb/a00000015.gdbtable 2015-02-23 13:28:30       220042\n",
            "WhiteOaksSouth/v101/whiteoakssouth.gdb/a00000015.gdbtablx 2015-02-23 13:28:30         5152\n",
            "WhiteOaksSouth/v101/whiteoakssouth.gdb/timestamps 2015-02-23 13:29:18          400\n"
          ]
        }
      ]
    },
    {
      "cell_type": "code",
      "source": [
        "# map_data_df = pd.read_csv(map_data_original_zip)"
      ],
      "metadata": {
        "id": "FQjFCfyrLdY2"
      },
      "execution_count": null,
      "outputs": []
    },
    {
      "cell_type": "code",
      "source": [
        "# map_data_df = pd.read_csv('Download.zip', compression = 'zip', header = 0, sep = ',', quotechar = '\"')"
      ],
      "metadata": {
        "id": "lNLuN3sKRtke"
      },
      "execution_count": null,
      "outputs": []
    },
    {
      "cell_type": "code",
      "source": [
        "# map_data = pd.read_csv(map_data_original_zip)"
      ],
      "metadata": {
        "id": "bfev57irIy9e"
      },
      "execution_count": null,
      "outputs": []
    },
    {
      "cell_type": "code",
      "source": [],
      "metadata": {
        "id": "VEITAFrgNXAu"
      },
      "execution_count": null,
      "outputs": []
    },
    {
      "cell_type": "code",
      "source": [
        "# len(map_data)"
      ],
      "metadata": {
        "id": "uT2A5YB5GmZM"
      },
      "execution_count": null,
      "outputs": []
    },
    {
      "cell_type": "code",
      "source": [
        "# map_data"
      ],
      "metadata": {
        "id": "KjTrsUcaG_2m"
      },
      "execution_count": null,
      "outputs": []
    },
    {
      "cell_type": "code",
      "source": [],
      "metadata": {
        "id": "06IpCF8MHCNN"
      },
      "execution_count": null,
      "outputs": []
    }
  ]
}